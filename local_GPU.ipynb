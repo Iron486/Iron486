{
 "cells": [
  {
   "cell_type": "markdown",
   "id": "07902e7b",
   "metadata": {},
   "source": [
    "####  <font color='green'> In this notebook I listed the details of the GPU that I use to train the models on local machine</font>"
   ]
  },
  {
   "cell_type": "markdown",
   "id": "db9a6038",
   "metadata": {},
   "source": [
    "###### Check the GPUs that Tensorflow is using"
   ]
  },
  {
   "cell_type": "code",
   "execution_count": 3,
   "id": "d1ea77f2",
   "metadata": {},
   "outputs": [
    {
     "data": {
      "text/plain": [
       "'/device:GPU:0'"
      ]
     },
     "execution_count": 3,
     "metadata": {},
     "output_type": "execute_result"
    }
   ],
   "source": [
    "import tensorflow as tf\n",
    "tf.test.gpu_device_name()"
   ]
  },
  {
   "cell_type": "code",
   "execution_count": 5,
   "id": "ce2d2227",
   "metadata": {},
   "outputs": [
    {
     "data": {
      "text/plain": [
       "[PhysicalDevice(name='/physical_device:GPU:0', device_type='GPU')]"
      ]
     },
     "execution_count": 5,
     "metadata": {},
     "output_type": "execute_result"
    }
   ],
   "source": [
    "tf.config.experimental.list_physical_devices(device_type='GPU')\n"
   ]
  },
  {
   "cell_type": "markdown",
   "id": "589dbddf",
   "metadata": {},
   "source": [
    "###### Check the number of GPUs"
   ]
  },
  {
   "cell_type": "code",
   "execution_count": 4,
   "id": "74468bc6",
   "metadata": {},
   "outputs": [
    {
     "name": "stdout",
     "output_type": "stream",
     "text": [
      "Num GPUs Available:  1\n"
     ]
    }
   ],
   "source": [
    "print(\"Num GPUs Available: \", len(tf.config.experimental.list_physical_devices('GPU')))"
   ]
  },
  {
   "cell_type": "markdown",
   "id": "af31d7cd",
   "metadata": {},
   "source": [
    "###### GPU details"
   ]
  },
  {
   "cell_type": "code",
   "execution_count": 5,
   "id": "6f2e6dd4",
   "metadata": {},
   "outputs": [],
   "source": [
    "# write \"nvidia-smi\" in command prompt to verify the gpu"
   ]
  },
  {
   "cell_type": "raw",
   "id": "a3655294",
   "metadata": {},
   "source": [
    "    Microsoft Windows [Version 10.0.22000.652]\n",
    "    (c) Microsoft Corporation. All rights reserved.\n",
    "\n",
    "    C:\\Users\\diego>nvidia-smi\n",
    "    Mon May  9 01:40:15 2022\n",
    "    +-----------------------------------------------------------------------------+\n",
    "    | NVIDIA-SMI 511.79       Driver Version: 511.79       CUDA Version: 11.6     |\n",
    "    |-------------------------------+----------------------+----------------------+\n",
    "    | GPU  Name            TCC/WDDM | Bus-Id        Disp.A | Volatile Uncorr. ECC |\n",
    "    | Fan  Temp  Perf  Pwr:Usage/Cap|         Memory-Usage | GPU-Util  Compute M. |\n",
    "    |                               |                      |               MIG M. |\n",
    "    |===============================+======================+======================|\n",
    "    |   0  NVIDIA GeForce ... WDDM  | 00000000:01:00.0  On |                  N/A |\n",
    "    | N/A   32C    P8     8W /  N/A |    555MiB /  6144MiB |      1%      Default |\n",
    "    |                               |                      |                  N/A |\n",
    "    +-------------------------------+----------------------+----------------------+\n",
    "\n",
    "    +-----------------------------------------------------------------------------+\n",
    "    | Processes:                                                                  |\n",
    "    |  GPU   GI   CI        PID   Type   Process name                  GPU Memory |\n",
    "    |        ID   ID                                                   Usage      |\n",
    "    |=============================================================================|\n",
    "    |    0   N/A  N/A      1612    C+G   ...8wekyb3d8bbwe\\Cortana.exe    N/A      |\n",
    "    |    0   N/A  N/A      1660    C+G                                   N/A      |\n",
    "    |    0   N/A  N/A      4296    C+G   ...y\\ShellExperienceHost.exe    N/A      |\n",
    "    |    0   N/A  N/A      6320    C+G   C:\\Windows\\explorer.exe         N/A      |\n",
    "    |    0   N/A  N/A      7760    C+G   ...txyewy\\MiniSearchHost.exe    N/A      |\n",
    "    |    0   N/A  N/A     10520    C+G   C:\\Windows\\explorer.exe         N/A      |\n",
    "    |    0   N/A  N/A     12396    C+G   ...n1h2txyewy\\SearchHost.exe    N/A      |\n",
    "    |    0   N/A  N/A     12424    C+G   ...artMenuExperienceHost.exe    N/A      |\n",
    "    |    0   N/A  N/A     13532    C+G   ...\\Programs\\Opera\\opera.exe    N/A      |\n",
    "    |    0   N/A  N/A     14300    C+G   ...perience\\NVIDIA Share.exe    N/A      |\n",
    "    |    0   N/A  N/A     14584    C+G   ...2txyewy\\TextInputHost.exe    N/A      |\n",
    "    |    0   N/A  N/A     18528    C+G   ...210.39\\msedgewebview2.exe    N/A      |\n",
    "    +-----------------------------------------------------------------------------+"
   ]
  },
  {
   "cell_type": "markdown",
   "id": "a8af273a",
   "metadata": {},
   "source": [
    "    Microsoft Windows [Version 10.0.22000.652]\n",
    "    (c) Microsoft Corporation. All rights reserved.\n",
    "\n",
    "    C:\\Users\\diego>nvidia-smi\n",
    "    Mon May  9 01:40:15 2022\n",
    "    +-----------------------------------------------------------------------------+\n",
    "    | NVIDIA-SMI 511.79       Driver Version: 511.79       CUDA Version: 11.6     |\n",
    "    |-------------------------------+----------------------+----------------------+\n",
    "    | GPU  Name            TCC/WDDM | Bus-Id        Disp.A | Volatile Uncorr. ECC |\n",
    "    | Fan  Temp  Perf  Pwr:Usage/Cap|         Memory-Usage | GPU-Util  Compute M. |\n",
    "    |                               |                      |               MIG M. |\n",
    "    |===============================+======================+======================|\n",
    "    |   0  NVIDIA GeForce ... WDDM  | 00000000:01:00.0  On |                  N/A |\n",
    "    | N/A   32C    P8     8W /  N/A |    555MiB /  6144MiB |      1%      Default |\n",
    "    |                               |                      |                  N/A |\n",
    "    +-------------------------------+----------------------+----------------------+\n",
    "\n",
    "    +-----------------------------------------------------------------------------+\n",
    "    | Processes:                                                                  |\n",
    "    |  GPU   GI   CI        PID   Type   Process name                  GPU Memory |\n",
    "    |        ID   ID                                                   Usage      |\n",
    "    |=============================================================================|\n",
    "    |    0   N/A  N/A      1612    C+G   ...8wekyb3d8bbwe\\Cortana.exe    N/A      |\n",
    "    |    0   N/A  N/A      1660    C+G                                   N/A      |\n",
    "    |    0   N/A  N/A      4296    C+G   ...y\\ShellExperienceHost.exe    N/A      |\n",
    "    |    0   N/A  N/A      6320    C+G   C:\\Windows\\explorer.exe         N/A      |\n",
    "    |    0   N/A  N/A      7760    C+G   ...txyewy\\MiniSearchHost.exe    N/A      |\n",
    "    |    0   N/A  N/A     10520    C+G   C:\\Windows\\explorer.exe         N/A      |\n",
    "    |    0   N/A  N/A     12396    C+G   ...n1h2txyewy\\SearchHost.exe    N/A      |\n",
    "    |    0   N/A  N/A     12424    C+G   ...artMenuExperienceHost.exe    N/A      |\n",
    "    |    0   N/A  N/A     13532    C+G   ...\\Programs\\Opera\\opera.exe    N/A      |\n",
    "    |    0   N/A  N/A     14300    C+G   ...perience\\NVIDIA Share.exe    N/A      |\n",
    "    |    0   N/A  N/A     14584    C+G   ...2txyewy\\TextInputHost.exe    N/A      |\n",
    "    |    0   N/A  N/A     18528    C+G   ...210.39\\msedgewebview2.exe    N/A      |\n",
    "    +-----------------------------------------------------------------------------+"
   ]
  },
  {
   "cell_type": "code",
   "execution_count": 6,
   "id": "6ebd4152",
   "metadata": {},
   "outputs": [
    {
     "name": "stdout",
     "output_type": "stream",
     "text": [
      "[name: \"/device:CPU:0\"\n",
      "device_type: \"CPU\"\n",
      "memory_limit: 268435456\n",
      "locality {\n",
      "}\n",
      "incarnation: 17062249072081138032\n",
      ", name: \"/device:GPU:0\"\n",
      "device_type: \"GPU\"\n",
      "memory_limit: 4153868288\n",
      "locality {\n",
      "  bus_id: 1\n",
      "  links {\n",
      "  }\n",
      "}\n",
      "incarnation: 1319305450459432267\n",
      "physical_device_desc: \"device: 0, name: NVIDIA GeForce RTX 2060, pci bus id: 0000:01:00.0, compute capability: 7.5\"\n",
      "]\n"
     ]
    }
   ],
   "source": [
    "from tensorflow.python.client import device_lib\n",
    "print(device_lib.list_local_devices())"
   ]
  },
  {
   "cell_type": "code",
   "execution_count": null,
   "id": "7e0917a7",
   "metadata": {},
   "outputs": [],
   "source": []
  }
 ],
 "metadata": {
  "kernelspec": {
   "display_name": "Python 3",
   "language": "python",
   "name": "python3"
  },
  "language_info": {
   "codemirror_mode": {
    "name": "ipython",
    "version": 3
   },
   "file_extension": ".py",
   "mimetype": "text/x-python",
   "name": "python",
   "nbconvert_exporter": "python",
   "pygments_lexer": "ipython3",
   "version": "3.9.5"
  }
 },
 "nbformat": 4,
 "nbformat_minor": 5
}
